{
 "cells": [
  {
   "cell_type": "markdown",
   "metadata": {},
   "source": [
    "# Benchmark Results Inspector\n",
    "\n",
    "This notebook provides tools to inspect and analyze benchmark results from language model evaluations."
   ]
  },
  {
   "cell_type": "code",
   "execution_count": 14,
   "metadata": {},
   "outputs": [],
   "source": [
    "import json\n",
    "\n",
    "import ipywidgets as widgets\n",
    "import matplotlib.pyplot as plt\n",
    "import numpy as np\n",
    "import pandas as pd\n",
    "from IPython.display import HTML, Markdown, display, Pretty\n",
    "from ipywidgets import HBox, Layout, VBox\n"
   ]
  },
  {
   "cell_type": "markdown",
   "metadata": {},
   "source": [
    "## Load and Parse Benchmark Results\n",
    "\n",
    "First, we need to load the benchmark results from a JSON file. Each line in the file is a separate JSON object representing a benchmark result."
   ]
  },
  {
   "cell_type": "code",
   "execution_count": 2,
   "metadata": {},
   "outputs": [],
   "source": [
    "def load_results(file_path):\n",
    "    \"\"\"\n",
    "    Load benchmark results from a JSONL file directly into a list of dictionaries.\n",
    "    \"\"\"\n",
    "    # Read the JSONL file line by line\n",
    "    results = []\n",
    "    with open(file_path, \"r\") as f:\n",
    "        for line in f:\n",
    "            results.append(json.loads(line))\n",
    "\n",
    "    return results\n",
    "\n",
    "\n",
    "def preprocess(result):\n",
    "    \"\"\"\n",
    "    Process a single benchmark result.\n",
    "\n",
    "    Args:\n",
    "        result: A single result dictionary\n",
    "        doc_id: The document ID to assign\n",
    "\n",
    "    Returns:\n",
    "        A flattened result dictionary\n",
    "    \"\"\"\n",
    "    # Create flattened result\n",
    "    flattened_result = {\n",
    "        \"doc_id\": result[\"doc_id\"],\n",
    "        \"question\": result[\"doc\"][\"question\"],\n",
    "        \"answer\": result[\"doc\"].get(\"answer\", \"\"),\n",
    "        \"target\": result[\"target\"],\n",
    "        \"model_response\": result[\"resps\"][0][0]\n",
    "        if result[\"resps\"] and result[\"resps\"][0]\n",
    "        else \"\",\n",
    "        \"filtered_response\": result[\"filtered_resps\"][0]\n",
    "        if result[\"filtered_resps\"]\n",
    "        else \"\",\n",
    "        \"exact_match\": result[\"exact_match\"],\n",
    "        \"full_result\": result,  # Keep the full result for reference\n",
    "    }\n",
    "\n",
    "    return flattened_result\n",
    "\n",
    "\n",
    "def load_and_process_results(file_path):\n",
    "    \"\"\"\n",
    "    Load benchmark results from a JSONL file directly into a list of dictionaries\n",
    "    and process it for analysis.\n",
    "    \"\"\"\n",
    "    # Merge loading and processing in one function\n",
    "    return [preprocess(result) for result in load_results(file_path)]"
   ]
  },
  {
   "cell_type": "code",
   "execution_count": 3,
   "metadata": {},
   "outputs": [
    {
     "name": "stdout",
     "output_type": "stream",
     "text": [
      "doc_id                 int64\n",
      "question              object\n",
      "answer                object\n",
      "target                object\n",
      "model_response        object\n",
      "filtered_response     object\n",
      "exact_match          float64\n",
      "full_result           object\n",
      "dtype: object\n"
     ]
    },
    {
     "data": {
      "text/html": [
       "<div>\n",
       "<style scoped>\n",
       "    .dataframe tbody tr th:only-of-type {\n",
       "        vertical-align: middle;\n",
       "    }\n",
       "\n",
       "    .dataframe tbody tr th {\n",
       "        vertical-align: top;\n",
       "    }\n",
       "\n",
       "    .dataframe thead th {\n",
       "        text-align: right;\n",
       "    }\n",
       "</style>\n",
       "<table border=\"1\" class=\"dataframe\">\n",
       "  <thead>\n",
       "    <tr style=\"text-align: right;\">\n",
       "      <th></th>\n",
       "      <th>doc_id</th>\n",
       "      <th>question</th>\n",
       "      <th>answer</th>\n",
       "      <th>target</th>\n",
       "      <th>model_response</th>\n",
       "      <th>filtered_response</th>\n",
       "      <th>exact_match</th>\n",
       "      <th>full_result</th>\n",
       "    </tr>\n",
       "  </thead>\n",
       "  <tbody>\n",
       "    <tr>\n",
       "      <th>0</th>\n",
       "      <td>0</td>\n",
       "      <td>Janet’s ducks lay 16 eggs per day. She eats th...</td>\n",
       "      <td>Janet sells 16 - 3 - 4 = &lt;&lt;16-3-4=9&gt;&gt;9 duck eg...</td>\n",
       "      <td>18</td>\n",
       "      <td>&lt;think&gt;\\n\\nJanet's ducks lay 16 eggs per day. ...</td>\n",
       "      <td>18</td>\n",
       "      <td>1.0</td>\n",
       "      <td>{'doc_id': 0, 'doc': {'question': 'Janet’s duc...</td>\n",
       "    </tr>\n",
       "    <tr>\n",
       "      <th>1</th>\n",
       "      <td>1</td>\n",
       "      <td>A robe takes 2 bolts of blue fiber and half th...</td>\n",
       "      <td>It takes 2/2=&lt;&lt;2/2=1&gt;&gt;1 bolt of white fiber\\nS...</td>\n",
       "      <td>3</td>\n",
       "      <td>&lt;think&gt;\\n\\nLet's start by identifying the amou...</td>\n",
       "      <td>[invalid]</td>\n",
       "      <td>0.0</td>\n",
       "      <td>{'doc_id': 1, 'doc': {'question': 'A robe take...</td>\n",
       "    </tr>\n",
       "    <tr>\n",
       "      <th>2</th>\n",
       "      <td>2</td>\n",
       "      <td>Josh decides to try flipping a house.  He buys...</td>\n",
       "      <td>The cost of the house and repairs came out to ...</td>\n",
       "      <td>70000</td>\n",
       "      <td>&lt;think&gt;\\n\\nLet's start by finding the value of...</td>\n",
       "      <td>-$10,000</td>\n",
       "      <td>0.0</td>\n",
       "      <td>{'doc_id': 2, 'doc': {'question': 'Josh decide...</td>\n",
       "    </tr>\n",
       "    <tr>\n",
       "      <th>3</th>\n",
       "      <td>3</td>\n",
       "      <td>James decides to run 3 sprints 3 times a week....</td>\n",
       "      <td>He sprints 3*3=&lt;&lt;3*3=9&gt;&gt;9 times\\nSo he runs 9*...</td>\n",
       "      <td>540</td>\n",
       "      <td>&lt;think&gt;\\n\\nJames runs 3 sprints 3 times a week...</td>\n",
       "      <td>540</td>\n",
       "      <td>1.0</td>\n",
       "      <td>{'doc_id': 3, 'doc': {'question': 'James decid...</td>\n",
       "    </tr>\n",
       "    <tr>\n",
       "      <th>4</th>\n",
       "      <td>4</td>\n",
       "      <td>Every day, Wendi feeds each of her chickens th...</td>\n",
       "      <td>If each chicken eats 3 cups of feed per day, t...</td>\n",
       "      <td>20</td>\n",
       "      <td>&lt;think&gt;\\n\\nWendi gives her chickens 15 cups of...</td>\n",
       "      <td>20</td>\n",
       "      <td>1.0</td>\n",
       "      <td>{'doc_id': 4, 'doc': {'question': 'Every day, ...</td>\n",
       "    </tr>\n",
       "  </tbody>\n",
       "</table>\n",
       "</div>"
      ],
      "text/plain": [
       "   doc_id                                           question  \\\n",
       "0       0  Janet’s ducks lay 16 eggs per day. She eats th...   \n",
       "1       1  A robe takes 2 bolts of blue fiber and half th...   \n",
       "2       2  Josh decides to try flipping a house.  He buys...   \n",
       "3       3  James decides to run 3 sprints 3 times a week....   \n",
       "4       4  Every day, Wendi feeds each of her chickens th...   \n",
       "\n",
       "                                              answer target  \\\n",
       "0  Janet sells 16 - 3 - 4 = <<16-3-4=9>>9 duck eg...     18   \n",
       "1  It takes 2/2=<<2/2=1>>1 bolt of white fiber\\nS...      3   \n",
       "2  The cost of the house and repairs came out to ...  70000   \n",
       "3  He sprints 3*3=<<3*3=9>>9 times\\nSo he runs 9*...    540   \n",
       "4  If each chicken eats 3 cups of feed per day, t...     20   \n",
       "\n",
       "                                      model_response filtered_response  \\\n",
       "0  <think>\\n\\nJanet's ducks lay 16 eggs per day. ...                18   \n",
       "1  <think>\\n\\nLet's start by identifying the amou...         [invalid]   \n",
       "2  <think>\\n\\nLet's start by finding the value of...          -$10,000   \n",
       "3  <think>\\n\\nJames runs 3 sprints 3 times a week...               540   \n",
       "4  <think>\\n\\nWendi gives her chickens 15 cups of...                20   \n",
       "\n",
       "   exact_match                                        full_result  \n",
       "0          1.0  {'doc_id': 0, 'doc': {'question': 'Janet’s duc...  \n",
       "1          0.0  {'doc_id': 1, 'doc': {'question': 'A robe take...  \n",
       "2          0.0  {'doc_id': 2, 'doc': {'question': 'Josh decide...  \n",
       "3          1.0  {'doc_id': 3, 'doc': {'question': 'James decid...  \n",
       "4          1.0  {'doc_id': 4, 'doc': {'question': 'Every day, ...  "
      ]
     },
     "execution_count": 3,
     "metadata": {},
     "output_type": "execute_result"
    }
   ],
   "source": [
    "# Example usage:\n",
    "file_path = '../outputs/Meta-Llama-3-8B-Instruct-GRPO/samples_gsm8k_grpo_2025-02-28T09-58-02.987651.jsonl'\n",
    "df = pd.DataFrame(load_and_process_results(file_path))\n",
    "print(df.dtypes)\n",
    "df.head()"
   ]
  },
  {
   "cell_type": "code",
   "execution_count": 4,
   "metadata": {},
   "outputs": [],
   "source": [
    "with open('flat-results.jsonl', 'w') as f:\n",
    "    df[['doc_id', 'question', 'answer', 'target', 'model_response', 'filtered_response', 'exact_match']].to_json(f, orient='records', lines=True)"
   ]
  },
  {
   "cell_type": "markdown",
   "metadata": {},
   "source": [
    "## Analyze Results\n",
    "\n",
    "Let's analyze the benchmark results to get an overview of the performance."
   ]
  },
  {
   "cell_type": "code",
   "execution_count": 5,
   "metadata": {},
   "outputs": [
    {
     "name": "stdout",
     "output_type": "stream",
     "text": [
      "Total examples: 2638\n",
      "Correct examples: 1864\n",
      "Accuracy: 70.66%\n"
     ]
    },
    {
     "data": {
      "image/png": "[encoded data removed]",
      "text/plain": [
       "<Figure size 1000x600 with 1 Axes>"
      ]
     },
     "metadata": {},
     "output_type": "display_data"
    }
   ],
   "source": [
    "def analyze_results(df):\n",
    "    \"\"\"\n",
    "    Analyze benchmark results and display summary statistics.\n",
    "    \"\"\"\n",
    "    total_examples = len(df)\n",
    "    correct_examples = df[df['exact_match'] == 1.0].shape[0]\n",
    "    accuracy = correct_examples / total_examples if total_examples > 0 else 0\n",
    "    \n",
    "    print(f\"Total examples: {total_examples}\")\n",
    "    print(f\"Correct examples: {correct_examples}\")\n",
    "    print(f\"Accuracy: {accuracy:.2%}\")\n",
    "    \n",
    "    # Plot accuracy\n",
    "    plt.figure(figsize=(10, 6))\n",
    "    plt.bar(['Correct', 'Incorrect'], [correct_examples, total_examples - correct_examples])\n",
    "    plt.title('Benchmark Results')\n",
    "    plt.ylabel('Number of Examples')\n",
    "    plt.show()\n",
    "    \n",
    "    return {\n",
    "        'total_examples': total_examples,\n",
    "        'correct_examples': correct_examples,\n",
    "        'accuracy': accuracy\n",
    "    }\n",
    "\n",
    "# Analyze sample results\n",
    "analysis = analyze_results(df)"
   ]
  },
  {
   "cell_type": "markdown",
   "metadata": {},
   "source": [
    "## Interactive Result Browser\n",
    "\n",
    "Let's create an interactive browser to inspect individual benchmark results."
   ]
  },
  {
   "cell_type": "code",
   "execution_count": 19,
   "metadata": {},
   "outputs": [
    {
     "data": {
      "application/vnd.jupyter.widget-view+json": {
       "model_id": "f9015f26ab154ad2acf61c7a56d3bd08",
       "version_major": 2,
       "version_minor": 0
      },
      "text/plain": [
       "VBox(children=(HBox(children=(Button(description='Previous', style=ButtonStyle()), IntText(value=0, descriptio…"
      ]
     },
     "metadata": {},
     "output_type": "display_data"
    },
    {
     "data": {
      "application/vnd.jupyter.widget-view+json": {
       "model_id": "f69297193ed247c7aafdb26eb323ef9b",
       "version_major": 2,
       "version_minor": 0
      },
      "text/plain": [
       "Output()"
      ]
     },
     "metadata": {},
     "output_type": "display_data"
    }
   ],
   "source": [
    "import textwrap\n",
    "\n",
    "def format_text(text):\n",
    "    return '\\n'.join(textwrap.wrap(text, width=120))\n",
    "\n",
    "\n",
    "def present_row(row):\n",
    "    \"\"\"\n",
    "    Display a single benchmark result in a readable format.\n",
    "    \"\"\"\n",
    "    display(HTML(f\"<h3>Example {row['doc_id']} {' - ✓ Correct' if row['exact_match'] == 1.0 else ' - ✗ Incorrect'}</h3>\"))\n",
    "    \n",
    "    # Question\n",
    "    display(HTML(f\"<h4>Question:</h4>\"))\n",
    "    question = format_text(row['question'])\n",
    "    display(Markdown(f\"{question}\"))\n",
    "    \n",
    "    # Reference answer (if available)\n",
    "    display(HTML(f\"<h4>Answer:</h4>\"))\n",
    "    # Limit text width to 120 characters\n",
    "    ref_answer = '\\n'.join(textwrap.wrap(row['answer'], width=120))\n",
    "    display(Markdown(f\"{ref_answer}\"))\n",
    "    \n",
    "    # Target answer\n",
    "    display(HTML(f\"<h4>Target Answer:</h4>\"))\n",
    "    display(Markdown(f\"{row['target']}\"))\n",
    "\n",
    "    # Model response\n",
    "    display(HTML(f\"<h4>Model Response:</h4>\"))\n",
    "    model_response = '\\n'.join(textwrap.wrap(row['model_response'], width=120))\n",
    "    display(Pretty(f\"{model_response}\"))\n",
    "    \n",
    "    # Model answer\n",
    "    display(HTML(f\"<h4>Model Answer:</h4>\"))\n",
    "    model_answer = format_text(row['filtered_response'])\n",
    "    display(Markdown(f\"{model_answer}\"))\n",
    "\n",
    "def create_browse_app(df):\n",
    "    \"\"\"\n",
    "    Create an interactive app to browse through benchmark results.\n",
    "    \"\"\"\n",
    "    def browse_results(i=0, show_correct=False, show_incorrect=True):\n",
    "        filtered_df = df.copy()\n",
    "        if not show_correct:\n",
    "            filtered_df = filtered_df[filtered_df['exact_match'] != 1.0]\n",
    "        if not show_incorrect:\n",
    "            filtered_df = filtered_df[filtered_df['exact_match'] == 1.0]\n",
    "        \n",
    "        if len(filtered_df) == 0:\n",
    "            display(HTML(\"<h3>No examples match the current filters</h3>\"))\n",
    "            return\n",
    "        \n",
    "        # Ensure index is within bounds\n",
    "        i = max(0, min(i, len(filtered_df) - 1))\n",
    "        row = filtered_df.iloc[i]\n",
    "        present_row(row)\n",
    "        \n",
    "        # Display pagination info\n",
    "        display(HTML(f\"<p>Showing example {i+1} of {len(filtered_df)}</p>\"))\n",
    "\n",
    "    # Create widgets\n",
    "    index = widgets.IntText(\n",
    "        value=0, \n",
    "        description='Index:', \n",
    "        min=0, \n",
    "        max=len(df)-1\n",
    "    )\n",
    "    left_button = widgets.Button(description='Previous')\n",
    "    right_button = widgets.Button(description='Next')\n",
    "    show_correct = widgets.Checkbox(value=False, description='Show Correct')\n",
    "    show_incorrect = widgets.Checkbox(value=True, description='Show Incorrect')\n",
    "    \n",
    "    # Define button callbacks\n",
    "    def on_left_button_clicked(b):\n",
    "        if index.value > 0:\n",
    "            index.value -= 1\n",
    "\n",
    "    def on_right_button_clicked(b):\n",
    "        if index.value < len(df) - 1:\n",
    "            index.value += 1\n",
    "\n",
    "    left_button.on_click(on_left_button_clicked)\n",
    "    right_button.on_click(on_right_button_clicked)\n",
    "\n",
    "    # Create UI layout\n",
    "    navigation = HBox([left_button, index, right_button])\n",
    "    filters = HBox([show_correct, show_incorrect])\n",
    "    ui = VBox([navigation, filters])\n",
    "    \n",
    "    # Create interactive output\n",
    "    out = widgets.interactive_output(\n",
    "        browse_results, \n",
    "        {\n",
    "            'i': index, \n",
    "            'show_correct': show_correct, \n",
    "            'show_incorrect': show_incorrect\n",
    "        }\n",
    "    )\n",
    "\n",
    "    display(ui, out)\n",
    "    \n",
    "# Create and display the interactive browser\n",
    "create_browse_app(df)"
   ]
  },
  {
   "cell_type": "markdown",
   "metadata": {},
   "source": [
    "## Filter and Search Results\n",
    "\n",
    "Let's add functionality to filter and search through the benchmark results."
   ]
  },
  {
   "cell_type": "code",
   "execution_count": 7,
   "metadata": {},
   "outputs": [
    {
     "name": "stderr",
     "output_type": "stream",
     "text": [
      "/tmp/ipykernel_1383351/3587793008.py:71: DeprecationWarning: on_submit is deprecated. Instead, set the .continuous_update attribute to False and observe the value changing with: mywidget.observe(callback, 'value').\n",
      "  search_box.on_submit(on_enter)\n"
     ]
    },
    {
     "data": {
      "application/vnd.jupyter.widget-view+json": {
       "model_id": "976f2a53ea894c77a0476ce903fc0f19",
       "version_major": 2,
       "version_minor": 0
      },
      "text/plain": [
       "VBox(children=(HBox(children=(Text(value='', description='Search:', placeholder='Search in questions and answe…"
      ]
     },
     "metadata": {},
     "output_type": "display_data"
    },
    {
     "data": {
      "application/vnd.jupyter.widget-view+json": {
       "model_id": "a76bc57eb4594921b1f533eb6b1351a4",
       "version_major": 2,
       "version_minor": 0
      },
      "text/plain": [
       "Output()"
      ]
     },
     "metadata": {},
     "output_type": "display_data"
    }
   ],
   "source": [
    "def create_search_app(df):\n",
    "    \"\"\"\n",
    "    Create an interactive app to search and filter benchmark results.\n",
    "    \"\"\"\n",
    "    def search_results(search_query='', show_correct=True, show_incorrect=True):\n",
    "        filtered_df = df.copy()\n",
    "        \n",
    "        # Apply correctness filters\n",
    "        if not show_correct:\n",
    "            filtered_df = filtered_df[filtered_df['exact_match'] != 1.0]\n",
    "        if not show_incorrect:\n",
    "            filtered_df = filtered_df[filtered_df['exact_match'] == 1.0]\n",
    "        \n",
    "        # Apply search query\n",
    "        if search_query:\n",
    "            query_lower = search_query.lower()\n",
    "            mask = (\n",
    "                filtered_df['question'].str.lower().str.contains(query_lower, na=False) | \n",
    "                filtered_df['reference_answer'].str.lower().str.contains(query_lower, na=False) | \n",
    "                filtered_df['model_response'].str.lower().str.contains(query_lower, na=False) | \n",
    "                filtered_df['filtered_response'].str.lower().str.contains(query_lower, na=False)\n",
    "            )\n",
    "            filtered_df = filtered_df[mask]\n",
    "        \n",
    "        # Display results\n",
    "        display(HTML(f\"<h3>Found {len(filtered_df)} matching examples</h3>\"))\n",
    "        \n",
    "        if len(filtered_df) > 0:\n",
    "            # Display a summary table\n",
    "            summary_df = filtered_df[['doc_id', 'question', 'filtered_response', 'target', 'exact_match']].copy()\n",
    "            summary_df['correct'] = summary_df['exact_match'].apply(lambda x: '✓' if x == 1.0 else '✗')\n",
    "            display(summary_df[['doc_id', 'question', 'filtered_response', 'target', 'correct']])\n",
    "        \n",
    "        return filtered_df\n",
    "    \n",
    "    # Create widgets\n",
    "    search_box = widgets.Text(value='', placeholder='Search in questions and answers...', description='Search:')\n",
    "    show_correct = widgets.Checkbox(value=True, description='Show Correct')\n",
    "    show_incorrect = widgets.Checkbox(value=True, description='Show Incorrect')\n",
    "    search_button = widgets.Button(description='Search')\n",
    "    \n",
    "    # Create UI layout\n",
    "    search_bar = HBox([search_box, search_button])\n",
    "    filters = HBox([show_correct, show_incorrect])\n",
    "    ui = VBox([search_bar, filters])\n",
    "    \n",
    "    # Create output area\n",
    "    output = widgets.Output()\n",
    "    \n",
    "    # Define search button callback\n",
    "    def on_search_button_clicked(b):\n",
    "        output.clear_output()\n",
    "        with output:\n",
    "            filtered_df = search_results(\n",
    "                search_query=search_box.value,\n",
    "                show_correct=show_correct.value,\n",
    "                show_incorrect=show_incorrect.value\n",
    "            )\n",
    "            \n",
    "            # If results are found, offer to browse them\n",
    "            if len(filtered_df) > 0:\n",
    "                display(HTML(\"<h4>Browse these results:</h4>\"))\n",
    "                create_browse_app(filtered_df)\n",
    "    \n",
    "    search_button.on_click(on_search_button_clicked)\n",
    "    \n",
    "    # Also trigger search on Enter key\n",
    "    def on_enter(sender):\n",
    "        on_search_button_clicked(None)\n",
    "    \n",
    "    search_box.on_submit(on_enter)\n",
    "    \n",
    "    display(ui, output)\n",
    "\n",
    "# Create and display the search app\n",
    "create_search_app(df)"
   ]
  },
  {
   "cell_type": "markdown",
   "metadata": {},
   "source": [
    "## Load Your Own Results\n",
    "\n",
    "Use the following cell to load your own benchmark results from a file."
   ]
  },
  {
   "cell_type": "code",
   "execution_count": 8,
   "metadata": {},
   "outputs": [
    {
     "data": {
      "text/plain": [
       "'\\ntry:\\n    results = load_results(results_file_path)\\n    df = results_to_df(results)\\n    print(f\"Loaded {len(df)} benchmark results\")\\n    \\n    # Analyze results\\n    analysis = analyze_results(df)\\n    \\n    # Create interactive browser\\n    create_browse_app(df)\\n    \\n    # Create search app\\n    create_search_app(df)\\nexcept Exception as e:\\n    print(f\"Error loading results: {e}\")\\n'"
      ]
     },
     "execution_count": 8,
     "metadata": {},
     "output_type": "execute_result"
    }
   ],
   "source": [
    "# Specify the path to your results file\n",
    "results_file_path = 'path/to/your/results.json'\n",
    "\n",
    "# Uncomment and run the following code to load your results\n",
    "'''\n",
    "try:\n",
    "    results = load_results(results_file_path)\n",
    "    df = results_to_df(results)\n",
    "    print(f\"Loaded {len(df)} benchmark results\")\n",
    "    \n",
    "    # Analyze results\n",
    "    analysis = analyze_results(df)\n",
    "    \n",
    "    # Create interactive browser\n",
    "    create_browse_app(df)\n",
    "    \n",
    "    # Create search app\n",
    "    create_search_app(df)\n",
    "except Exception as e:\n",
    "    print(f\"Error loading results: {e}\")\n",
    "'''"
   ]
  },
  {
   "cell_type": "markdown",
   "metadata": {},
   "source": [
    "## Export Analysis\n",
    "\n",
    "Export analysis results and incorrect examples for further investigation."
   ]
  },
  {
   "cell_type": "code",
   "execution_count": 9,
   "metadata": {},
   "outputs": [],
   "source": [
    "def export_analysis(df, output_dir='./analysis_output'):\n",
    "    \"\"\"\n",
    "    Export analysis results and incorrect examples.\n",
    "    \"\"\"\n",
    "    import os\n",
    "    os.makedirs(output_dir, exist_ok=True)\n",
    "    \n",
    "    # Export summary statistics\n",
    "    total_examples = len(df)\n",
    "    correct_examples = df[df['exact_match'] == 1.0].shape[0]\n",
    "    accuracy = correct_examples / total_examples if total_examples > 0 else 0\n",
    "    \n",
    "    with open(f\"{output_dir}/summary.txt\", 'w') as f:\n",
    "        f.write(f\"Total examples: {total_examples}\\n\")\n",
    "        f.write(f\"Correct examples: {correct_examples}\\n\")\n",
    "        f.write(f\"Accuracy: {accuracy:.2%}\\n\")\n",
    "    \n",
    "    # Export incorrect examples\n",
    "    incorrect_df = df[df['exact_match'] != 1.0]\n",
    "    if len(incorrect_df) > 0:\n",
    "        incorrect_df.to_csv(f\"{output_dir}/incorrect_examples.csv\", index=False)\n",
    "        \n",
    "        # Export detailed incorrect examples in JSON format\n",
    "        incorrect_details = []\n",
    "        for _, row in incorrect_df.iterrows():\n",
    "            incorrect_details.append({\n",
    "                'doc_id': row['doc_id'],\n",
    "                'question': row['question'],\n",
    "                'reference_answer': row['reference_answer'],\n",
    "                'target': row['target'],\n",
    "                'model_response': row['model_response'],\n",
    "                'filtered_response': row['filtered_response']\n",
    "            })\n",
    "        \n",
    "        with open(f\"{output_dir}/incorrect_details.json\", 'w') as f:\n",
    "            json.dump(incorrect_details, f, indent=2)\n",
    "    \n",
    "    print(f\"Analysis exported to {output_dir}/\")\n",
    "\n",
    "# Uncomment to export analysis\n",
    "# export_analysis(df)"
   ]
  }
 ],
 "metadata": {
  "kernelspec": {
   "display_name": "Python 3",
   "language": "python",
   "name": "python3"
  },
  "language_info": {
   "codemirror_mode": {
    "name": "ipython",
    "version": 3
   },
   "file_extension": ".py",
   "mimetype": "text/x-python",
   "name": "python",
   "nbconvert_exporter": "python",
   "pygments_lexer": "ipython3",
   "version": "3.8.10"
  }
 },
 "nbformat": 4,
 "nbformat_minor": 4
}
